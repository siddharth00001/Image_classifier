{
  "cells": [
    {
      "cell_type": "code",
      "execution_count": 1,
      "metadata": {
        "colab": {
          "base_uri": "https://localhost:8080/"
        },
        "id": "jB6syhefvFp_",
        "outputId": "3f5dded6-9d2f-45a9-cdf4-a8966babdfbb"
      },
      "outputs": [
        {
          "name": "stdout",
          "output_type": "stream",
          "text": [
            "Wed Oct  4 11:02:39 2023       \n",
            "+-----------------------------------------------------------------------------+\n",
            "| NVIDIA-SMI 525.105.17   Driver Version: 525.105.17   CUDA Version: 12.0     |\n",
            "|-------------------------------+----------------------+----------------------+\n",
            "| GPU  Name        Persistence-M| Bus-Id        Disp.A | Volatile Uncorr. ECC |\n",
            "| Fan  Temp  Perf  Pwr:Usage/Cap|         Memory-Usage | GPU-Util  Compute M. |\n",
            "|                               |                      |               MIG M. |\n",
            "|===============================+======================+======================|\n",
            "|   0  Tesla T4            Off  | 00000000:00:04.0 Off |                    0 |\n",
            "| N/A   49C    P8     9W /  70W |      0MiB / 15360MiB |      0%      Default |\n",
            "|                               |                      |                  N/A |\n",
            "+-------------------------------+----------------------+----------------------+\n",
            "                                                                               \n",
            "+-----------------------------------------------------------------------------+\n",
            "| Processes:                                                                  |\n",
            "|  GPU   GI   CI        PID   Type   Process name                  GPU Memory |\n",
            "|        ID   ID                                                   Usage      |\n",
            "|=============================================================================|\n",
            "|  No running processes found                                                 |\n",
            "+-----------------------------------------------------------------------------+\n"
          ]
        }
      ],
      "source": [
        "!nvidia-smi"
      ]
    },
    {
      "cell_type": "code",
      "execution_count": 2,
      "metadata": {
        "colab": {
          "base_uri": "https://localhost:8080/",
          "height": 35
        },
        "id": "OSiVUVKsv5Fs",
        "outputId": "664d9fdc-cf2b-4cbc-afb8-9a2efd1baf2f"
      },
      "outputs": [
        {
          "data": {
            "application/vnd.google.colaboratory.intrinsic+json": {
              "type": "string"
            },
            "text/plain": [
              "'2.13.0'"
            ]
          },
          "execution_count": 2,
          "metadata": {},
          "output_type": "execute_result"
        }
      ],
      "source": [
        "import tensorflow as tf\n",
        "tf.__version__"
      ]
    },
    {
      "cell_type": "code",
      "execution_count": 4,
      "metadata": {
        "id": "pPUa60u-Wz91"
      },
      "outputs": [],
      "source": [
        "# Importing all the relevant libraries\n",
        "from tensorflow.keras.layers import Input,Lambda,Dense,Flatten\n",
        "from tensorflow.keras.models import Model,Sequential\n",
        "from tensorflow.keras.applications.vgg16 import VGG16\n",
        "from tensorflow.keras.preprocessing import image\n",
        "from tensorflow.keras.preprocessing.image import ImageDataGenerator,load_img\n",
        "import numpy as np\n",
        "from glob import glob"
      ]
    },
    {
      "cell_type": "code",
      "execution_count": 5,
      "metadata": {
        "colab": {
          "base_uri": "https://localhost:8080/"
        },
        "id": "65jFwQfXXqie",
        "outputId": "4739fe3c-2b4d-4ed0-fe92-5faa1e78fbc8"
      },
      "outputs": [
        {
          "name": "stdout",
          "output_type": "stream",
          "text": [
            "Mounted at /content/drive\n"
          ]
        }
      ],
      "source": [
        "from google.colab import drive\n",
        "drive.mount('/content/drive')"
      ]
    },
    {
      "cell_type": "code",
      "execution_count": 6,
      "metadata": {
        "colab": {
          "base_uri": "https://localhost:8080/"
        },
        "id": "us5IBC2SX5t9",
        "outputId": "d8ecebd1-aef6-4220-f1d7-c31b57424216"
      },
      "outputs": [
        {
          "name": "stdout",
          "output_type": "stream",
          "text": [
            "/content\n"
          ]
        }
      ],
      "source": [
        "ROOT_PATH = '/content/drive/MyDrive'\n",
        "!pwd"
      ]
    },
    {
      "cell_type": "code",
      "execution_count": 7,
      "metadata": {
        "colab": {
          "base_uri": "https://localhost:8080/"
        },
        "id": "Cz0zElQ3YH4x",
        "outputId": "4d3d3457-818d-45f1-e806-3ddf7f3f8acf"
      },
      "outputs": [
        {
          "name": "stdout",
          "output_type": "stream",
          "text": [
            "/content/drive/MyDrive\n"
          ]
        }
      ],
      "source": [
        "import os\n",
        "os.chdir(ROOT_PATH)\n",
        "!pwd"
      ]
    },
    {
      "cell_type": "code",
      "execution_count": 8,
      "metadata": {
        "colab": {
          "base_uri": "https://localhost:8080/",
          "height": 35
        },
        "id": "9ZAXOoFnZHnV",
        "outputId": "dfe55a0d-8b67-467f-80b4-48875ea8df44"
      },
      "outputs": [
        {
          "data": {
            "application/vnd.google.colaboratory.intrinsic+json": {
              "type": "string"
            },
            "text/plain": [
              "'/content/drive/MyDrive'"
            ]
          },
          "execution_count": 8,
          "metadata": {},
          "output_type": "execute_result"
        }
      ],
      "source": [
        "os.getcwd()"
      ]
    },
    {
      "cell_type": "code",
      "execution_count": 12,
      "metadata": {
        "colab": {
          "base_uri": "https://localhost:8080/"
        },
        "id": "qYa_RlvaZQtW",
        "outputId": "44e0853c-0896-4af3-f970-4dcc8eb22223"
      },
      "outputs": [
        {
          "name": "stdout",
          "output_type": "stream",
          "text": [
            " best_model.h5\n",
            " \u001b[0m\u001b[01;34mCertificates\u001b[0m/\n",
            " classes.txt\n",
            "\u001b[01;34m'Colab Notebooks'\u001b[0m/\n",
            " \u001b[01;34mdata\u001b[0m/\n",
            "'Data Analyst.docx'\n",
            " \u001b[01;34mDataset\u001b[0m/\n",
            " DJI_0137.txt\n",
            " DJI_0139.txt\n",
            " DJI_0142.txt\n",
            " DT20217602368_OL.pdf\n",
            " \u001b[01;34mImages\u001b[0m/\n",
            "\u001b[01;34m'January current affairs'\u001b[0m/\n",
            " new.txt\n",
            " \u001b[01;34mPetImages-20231004T111704Z-001\u001b[0m/\n",
            " \u001b[01;34mpw\u001b[0m/\n",
            " \u001b[01;34mpw2\u001b[0m/\n",
            "'RB siddharth chamoli.pdf'\n",
            " \u001b[01;34mResume\u001b[0m/\n",
            "'Siddharth_resume (1).pdf'\n",
            "'Siddharth_resume (2).pdf'\n",
            " Siddharth_resume.docx\n",
            " Siddharth_resume.pdf\n",
            "'Siddharth'\\''s Res (1).pdf'\n",
            "'Siddharth'\\''s Res (2).pdf'\n",
            "\"Siddharth's Res.pdf\"\n",
            "'siddharth'\\''s Resume (2).pdf'\n",
            "\"Siddharth's Resume.pdf\"\n",
            "'Tg-adapter & Interactive Logic_Java_Code.docx'\n",
            "'Untitled0 (1).ipynb'\n",
            "'UPSC Exam Comprehensive News Analysis. January 10th, 2021 CNA. Download PDF'\n",
            " Validation_Java_Code.docx\n",
            " \u001b[01;34myolov8s-seg\u001b[0m/\n"
          ]
        }
      ],
      "source": [
        "ls"
      ]
    },
    {
      "cell_type": "code",
      "execution_count": 13,
      "metadata": {
        "id": "YJl0UCkTa4tW"
      },
      "outputs": [],
      "source": [
        "image_size = [224,224]\n",
        "train_path = 'PetImages-20231004T111704Z-001/PetImages/train'\n",
        "test_path = 'PetImages-20231004T111704Z-001/PetImages/validation'"
      ]
    },
    {
      "cell_type": "code",
      "execution_count": 17,
      "metadata": {
        "colab": {
          "base_uri": "https://localhost:8080/"
        },
        "id": "2RsM99y3kGJo",
        "outputId": "68eab975-9628-4e51-e739-56e2169d759a"
      },
      "outputs": [
        {
          "data": {
            "text/plain": [
              "[224, 224, 3]"
            ]
          },
          "execution_count": 17,
          "metadata": {},
          "output_type": "execute_result"
        }
      ],
      "source": [
        "image_size+[3]"
      ]
    },
    {
      "cell_type": "code",
      "execution_count": 14,
      "metadata": {
        "colab": {
          "base_uri": "https://localhost:8080/"
        },
        "id": "tQIW1-R2jcoD",
        "outputId": "717eecf5-6189-460f-8594-9328f737aef4"
      },
      "outputs": [
        {
          "name": "stdout",
          "output_type": "stream",
          "text": [
            "Downloading data from https://storage.googleapis.com/tensorflow/keras-applications/vgg16/vgg16_weights_tf_dim_ordering_tf_kernels_notop.h5\n",
            "58889256/58889256 [==============================] - 4s 0us/step\n"
          ]
        }
      ],
      "source": [
        "## Importing the vgg16 as first layer\n",
        "vgg16 = VGG16(input_shape=image_size+[3],weights='imagenet',include_top=False)"
      ]
    },
    {
      "cell_type": "code",
      "execution_count": 16,
      "metadata": {
        "colab": {
          "base_uri": "https://localhost:8080/"
        },
        "id": "DjY-uNQ3j5Tn",
        "outputId": "d4493132-b55b-4e1c-87c8-11c4167a9fc1"
      },
      "outputs": [
        {
          "name": "stdout",
          "output_type": "stream",
          "text": [
            "<keras.src.engine.input_layer.InputLayer object at 0x7a321aff74c0>\n",
            "<keras.src.layers.convolutional.conv2d.Conv2D object at 0x7a321ae3d9f0>\n",
            "<keras.src.layers.convolutional.conv2d.Conv2D object at 0x7a321ae3d000>\n",
            "<keras.src.layers.pooling.max_pooling2d.MaxPooling2D object at 0x7a321ae3c550>\n",
            "<keras.src.layers.convolutional.conv2d.Conv2D object at 0x7a321ae3f7f0>\n",
            "<keras.src.layers.convolutional.conv2d.Conv2D object at 0x7a321ae3c220>\n",
            "<keras.src.layers.pooling.max_pooling2d.MaxPooling2D object at 0x7a321ae3e080>\n",
            "<keras.src.layers.convolutional.conv2d.Conv2D object at 0x7a321ae3f820>\n",
            "<keras.src.layers.convolutional.conv2d.Conv2D object at 0x7a321ae3c9d0>\n",
            "<keras.src.layers.convolutional.conv2d.Conv2D object at 0x7a3219bc51e0>\n",
            "<keras.src.layers.pooling.max_pooling2d.MaxPooling2D object at 0x7a3219bc6380>\n",
            "<keras.src.layers.convolutional.conv2d.Conv2D object at 0x7a3219bc6b90>\n",
            "<keras.src.layers.convolutional.conv2d.Conv2D object at 0x7a3219bc7070>\n",
            "<keras.src.layers.convolutional.conv2d.Conv2D object at 0x7a3219bc7fd0>\n",
            "<keras.src.layers.pooling.max_pooling2d.MaxPooling2D object at 0x7a3219bd8fa0>\n",
            "<keras.src.layers.convolutional.conv2d.Conv2D object at 0x7a3219bc7190>\n",
            "<keras.src.layers.convolutional.conv2d.Conv2D object at 0x7a3219bd8670>\n",
            "<keras.src.layers.convolutional.conv2d.Conv2D object at 0x7a3219bd9f00>\n",
            "<keras.src.layers.pooling.max_pooling2d.MaxPooling2D object at 0x7a3219bdb6d0>\n"
          ]
        }
      ],
      "source": [
        "for layer in vgg16.layers:\n",
        "  print(layer)"
      ]
    },
    {
      "cell_type": "code",
      "execution_count": 18,
      "metadata": {
        "id": "DXdSyckvj-9S"
      },
      "outputs": [],
      "source": [
        "# Making layers untrainable and retaining original weights for layers\n",
        "for layer in vgg16.layers:\n",
        "  layer.trainable=False"
      ]
    },
    {
      "cell_type": "code",
      "execution_count": 19,
      "metadata": {
        "colab": {
          "base_uri": "https://localhost:8080/"
        },
        "id": "rflIWp10kWbr",
        "outputId": "2843fe96-2f23-4f49-b421-3dc0216c9cba"
      },
      "outputs": [
        {
          "name": "stdout",
          "output_type": "stream",
          "text": [
            "input_1 False\n",
            "block1_conv1 False\n",
            "block1_conv2 False\n",
            "block1_pool False\n",
            "block2_conv1 False\n",
            "block2_conv2 False\n",
            "block2_pool False\n",
            "block3_conv1 False\n",
            "block3_conv2 False\n",
            "block3_conv3 False\n",
            "block3_pool False\n",
            "block4_conv1 False\n",
            "block4_conv2 False\n",
            "block4_conv3 False\n",
            "block4_pool False\n",
            "block5_conv1 False\n",
            "block5_conv2 False\n",
            "block5_conv3 False\n",
            "block5_pool False\n"
          ]
        }
      ],
      "source": [
        "for layer in vgg16.layers:\n",
        "  print(layer.name,layer.trainable)"
      ]
    },
    {
      "cell_type": "code",
      "execution_count": 20,
      "metadata": {
        "colab": {
          "base_uri": "https://localhost:8080/"
        },
        "id": "CoQFPrCSk27w",
        "outputId": "ed002c7b-2f49-4b05-874a-a2497eba290f"
      },
      "outputs": [
        {
          "name": "stdout",
          "output_type": "stream",
          "text": [
            "Model: \"vgg16\"\n",
            "_________________________________________________________________\n",
            " Layer (type)                Output Shape              Param #   \n",
            "=================================================================\n",
            " input_1 (InputLayer)        [(None, 224, 224, 3)]     0         \n",
            "                                                                 \n",
            " block1_conv1 (Conv2D)       (None, 224, 224, 64)      1792      \n",
            "                                                                 \n",
            " block1_conv2 (Conv2D)       (None, 224, 224, 64)      36928     \n",
            "                                                                 \n",
            " block1_pool (MaxPooling2D)  (None, 112, 112, 64)      0         \n",
            "                                                                 \n",
            " block2_conv1 (Conv2D)       (None, 112, 112, 128)     73856     \n",
            "                                                                 \n",
            " block2_conv2 (Conv2D)       (None, 112, 112, 128)     147584    \n",
            "                                                                 \n",
            " block2_pool (MaxPooling2D)  (None, 56, 56, 128)       0         \n",
            "                                                                 \n",
            " block3_conv1 (Conv2D)       (None, 56, 56, 256)       295168    \n",
            "                                                                 \n",
            " block3_conv2 (Conv2D)       (None, 56, 56, 256)       590080    \n",
            "                                                                 \n",
            " block3_conv3 (Conv2D)       (None, 56, 56, 256)       590080    \n",
            "                                                                 \n",
            " block3_pool (MaxPooling2D)  (None, 28, 28, 256)       0         \n",
            "                                                                 \n",
            " block4_conv1 (Conv2D)       (None, 28, 28, 512)       1180160   \n",
            "                                                                 \n",
            " block4_conv2 (Conv2D)       (None, 28, 28, 512)       2359808   \n",
            "                                                                 \n",
            " block4_conv3 (Conv2D)       (None, 28, 28, 512)       2359808   \n",
            "                                                                 \n",
            " block4_pool (MaxPooling2D)  (None, 14, 14, 512)       0         \n",
            "                                                                 \n",
            " block5_conv1 (Conv2D)       (None, 14, 14, 512)       2359808   \n",
            "                                                                 \n",
            " block5_conv2 (Conv2D)       (None, 14, 14, 512)       2359808   \n",
            "                                                                 \n",
            " block5_conv3 (Conv2D)       (None, 14, 14, 512)       2359808   \n",
            "                                                                 \n",
            " block5_pool (MaxPooling2D)  (None, 7, 7, 512)         0         \n",
            "                                                                 \n",
            "=================================================================\n",
            "Total params: 14714688 (56.13 MB)\n",
            "Trainable params: 0 (0.00 Byte)\n",
            "Non-trainable params: 14714688 (56.13 MB)\n",
            "_________________________________________________________________\n"
          ]
        }
      ],
      "source": [
        "vgg16.summary()"
      ]
    },
    {
      "cell_type": "code",
      "execution_count": 22,
      "metadata": {
        "colab": {
          "base_uri": "https://localhost:8080/"
        },
        "id": "ahUNrv8Yk69i",
        "outputId": "03c7f414-d3a5-4602-db9b-c5b2706064fd"
      },
      "outputs": [
        {
          "data": {
            "text/plain": [
              "['PetImages-20231004T111704Z-001/PetImages/train/Cat',\n",
              " 'PetImages-20231004T111704Z-001/PetImages/train/Dog']"
            ]
          },
          "execution_count": 22,
          "metadata": {},
          "output_type": "execute_result"
        }
      ],
      "source": [
        "# Getting training folder\n",
        "train_folder = glob('PetImages-20231004T111704Z-001/PetImages/train/*')\n",
        "train_folder"
      ]
    },
    {
      "cell_type": "code",
      "execution_count": 23,
      "metadata": {
        "colab": {
          "base_uri": "https://localhost:8080/"
        },
        "id": "86CZnkB1ll2i",
        "outputId": "d4d7017b-527d-45f9-9807-e95ede246ea3"
      },
      "outputs": [
        {
          "data": {
            "text/plain": [
              "2"
            ]
          },
          "execution_count": 23,
          "metadata": {},
          "output_type": "execute_result"
        }
      ],
      "source": [
        "len(train_folder)"
      ]
    },
    {
      "cell_type": "code",
      "execution_count": 24,
      "metadata": {
        "id": "oY3XJoTqlvRD"
      },
      "outputs": [],
      "source": [
        "from keras.api._v2.keras import activations\n",
        "model = Sequential()\n",
        "model.add(vgg16)\n",
        "model.add(Flatten())\n",
        "model.add(Dense(256,activation='relu'))\n",
        "model.add(Dense(2,activation='softmax'))"
      ]
    },
    {
      "cell_type": "code",
      "execution_count": 25,
      "metadata": {
        "colab": {
          "base_uri": "https://localhost:8080/"
        },
        "id": "dIK5iloGmI4a",
        "outputId": "93f6b2ae-22fd-4b55-ab6a-ffd6ffde2f06"
      },
      "outputs": [
        {
          "name": "stdout",
          "output_type": "stream",
          "text": [
            "Model: \"sequential\"\n",
            "_________________________________________________________________\n",
            " Layer (type)                Output Shape              Param #   \n",
            "=================================================================\n",
            " vgg16 (Functional)          (None, 7, 7, 512)         14714688  \n",
            "                                                                 \n",
            " flatten (Flatten)           (None, 25088)             0         \n",
            "                                                                 \n",
            " dense (Dense)               (None, 256)               6422784   \n",
            "                                                                 \n",
            " dense_1 (Dense)             (None, 2)                 514       \n",
            "                                                                 \n",
            "=================================================================\n",
            "Total params: 21137986 (80.64 MB)\n",
            "Trainable params: 6423298 (24.50 MB)\n",
            "Non-trainable params: 14714688 (56.13 MB)\n",
            "_________________________________________________________________\n"
          ]
        }
      ],
      "source": [
        "model.summary()"
      ]
    },
    {
      "cell_type": "code",
      "execution_count": 26,
      "metadata": {
        "id": "0CqQC10gmK8U"
      },
      "outputs": [],
      "source": [
        "model.compile(\n",
        "    loss='categorical_crossentropy',\n",
        "    optimizer = 'adam',\n",
        "    metrics=['accuracy'])"
      ]
    },
    {
      "cell_type": "code",
      "execution_count": 27,
      "metadata": {
        "id": "wkBnYGQ6mk_Q"
      },
      "outputs": [],
      "source": [
        "# using data generators to load the images from dataset\n",
        "train_generator = ImageDataGenerator(rescale=1./255,\n",
        "                                     shear_range = 0.2,\n",
        "                                     zoom_range=0.2,\n",
        "                                     horizontal_flip=True)\n",
        "test_generator = ImageDataGenerator(rescale=1./255)"
      ]
    },
    {
      "cell_type": "code",
      "execution_count": 28,
      "metadata": {
        "colab": {
          "base_uri": "https://localhost:8080/"
        },
        "id": "QWZasV-InhJz",
        "outputId": "f12a8ef1-9c76-4e1a-bb3c-7763a69f293c"
      },
      "outputs": [
        {
          "name": "stdout",
          "output_type": "stream",
          "text": [
            "Found 337 images belonging to 2 classes.\n"
          ]
        }
      ],
      "source": [
        "train_set = train_generator.flow_from_directory('PetImages-20231004T111704Z-001/PetImages/train',\n",
        "                                                target_size=(224,224),\n",
        "                                                batch_size=32,\n",
        "                                                class_mode='categorical')"
      ]
    },
    {
      "cell_type": "code",
      "execution_count": 29,
      "metadata": {
        "colab": {
          "base_uri": "https://localhost:8080/"
        },
        "id": "5uxSOcDwodvv",
        "outputId": "2c19699d-4466-444c-988b-43839a86c81a"
      },
      "outputs": [
        {
          "name": "stdout",
          "output_type": "stream",
          "text": [
            "Found 59 images belonging to 2 classes.\n"
          ]
        }
      ],
      "source": [
        "test_set = test_generator.flow_from_directory('PetImages-20231004T111704Z-001/PetImages/validation',\n",
        "                                              target_size=(224,224),\n",
        "                                              batch_size=32,\n",
        "                                              class_mode= 'categorical')"
      ]
    },
    {
      "cell_type": "code",
      "execution_count": 31,
      "metadata": {
        "colab": {
          "base_uri": "https://localhost:8080/"
        },
        "id": "-oGtscBupgrq",
        "outputId": "55cf3314-f28b-461d-e94d-90a2a6e0b361"
      },
      "outputs": [
        {
          "name": "stdout",
          "output_type": "stream",
          "text": [
            "Epoch 1/10\n",
            "11/11 [==============================] - 266s 23s/step - loss: 3.8363 - accuracy: 0.5401 - val_loss: 0.4247 - val_accuracy: 0.7966\n",
            "Epoch 2/10\n",
            "11/11 [==============================] - 5s 459ms/step - loss: 0.3943 - accuracy: 0.8160 - val_loss: 0.4098 - val_accuracy: 0.7966\n",
            "Epoch 3/10\n",
            "11/11 [==============================] - 5s 477ms/step - loss: 0.2179 - accuracy: 0.9021 - val_loss: 0.4282 - val_accuracy: 0.7966\n",
            "Epoch 4/10\n",
            "11/11 [==============================] - 5s 453ms/step - loss: 0.1837 - accuracy: 0.9139 - val_loss: 0.4094 - val_accuracy: 0.8136\n",
            "Epoch 5/10\n",
            "11/11 [==============================] - 6s 515ms/step - loss: 0.1263 - accuracy: 0.9466 - val_loss: 0.3956 - val_accuracy: 0.8136\n",
            "Epoch 6/10\n",
            "11/11 [==============================] - 6s 544ms/step - loss: 0.0938 - accuracy: 0.9763 - val_loss: 0.3761 - val_accuracy: 0.8305\n",
            "Epoch 7/10\n",
            "11/11 [==============================] - 7s 613ms/step - loss: 0.0752 - accuracy: 0.9911 - val_loss: 0.3740 - val_accuracy: 0.8305\n",
            "Epoch 8/10\n",
            "11/11 [==============================] - 5s 469ms/step - loss: 0.0544 - accuracy: 0.9941 - val_loss: 0.3828 - val_accuracy: 0.8305\n",
            "Epoch 9/10\n",
            "11/11 [==============================] - 6s 551ms/step - loss: 0.0540 - accuracy: 0.9881 - val_loss: 0.4012 - val_accuracy: 0.8305\n",
            "Epoch 10/10\n",
            "11/11 [==============================] - 5s 469ms/step - loss: 0.0346 - accuracy: 1.0000 - val_loss: 0.4844 - val_accuracy: 0.8305\n"
          ]
        }
      ],
      "source": [
        "m = model.fit(train_set,\n",
        "              validation_data =test_set,\n",
        "              epochs=10,\n",
        "              steps_per_epoch = len(train_set),\n",
        "              validation_steps = len(test_set))"
      ]
    },
    {
      "cell_type": "code",
      "execution_count": 34,
      "metadata": {
        "colab": {
          "base_uri": "https://localhost:8080/",
          "height": 433
        },
        "id": "sQvF5-AlqWGu",
        "outputId": "a83f9a84-0502-41e7-bf67-bb2ebd3f1cf6"
      },
      "outputs": [
        {
          "data": {
            "image/png": "[encoded data removed]",
            "text/plain": [
              "<Figure size 640x480 with 1 Axes>"
            ]
          },
          "metadata": {},
          "output_type": "display_data"
        }
      ],
      "source": [
        "import matplotlib.pyplot as plt\n",
        "plt.plot(m.history['loss'],label = 'Loss over the epochs')\n",
        "plt.plot(m.history['val_loss'],label = 'Validation loss over the epochs')\n",
        "plt.legend()\n",
        "plt.show()"
      ]
    },
    {
      "cell_type": "code",
      "execution_count": 35,
      "metadata": {
        "colab": {
          "base_uri": "https://localhost:8080/",
          "height": 430
        },
        "id": "TgBdDqspuMd1",
        "outputId": "89160703-4747-4072-bbc8-4801eb76212d"
      },
      "outputs": [
        {
          "data": {
            "image/png": "[encoded data removed]",
            "text/plain": [
              "<Figure size 640x480 with 1 Axes>"
            ]
          },
          "metadata": {},
          "output_type": "display_data"
        }
      ],
      "source": [
        "import matplotlib.pyplot as plt\n",
        "plt.plot(m.history['accuracy'],label = 'accuracy over the epochs')\n",
        "plt.plot(m.history['val_accuracy'],label = 'Validation accuracy over the epochs')\n",
        "plt.legend()\n",
        "plt.show()"
      ]
    },
    {
      "cell_type": "code",
      "execution_count": 36,
      "metadata": {
        "colab": {
          "base_uri": "https://localhost:8080/"
        },
        "id": "eAy64nDmuuDk",
        "outputId": "ec0da3df-333f-43d9-db65-30017a196009"
      },
      "outputs": [
        {
          "name": "stderr",
          "output_type": "stream",
          "text": [
            "/usr/local/lib/python3.10/dist-packages/keras/src/engine/training.py:3000: UserWarning: You are saving your model as an HDF5 file via `model.save()`. This file format is considered legacy. We recommend using instead the native Keras format, e.g. `model.save('my_model.keras')`.\n",
            "  saving_api.save_model(\n"
          ]
        }
      ],
      "source": [
        "from tensorflow.keras.models import load_model\n",
        "import os\n",
        "model.save(os.path.join('model','classifier.h5'))"
      ]
    },
    {
      "cell_type": "code",
      "execution_count": 37,
      "metadata": {
        "colab": {
          "base_uri": "https://localhost:8080/"
        },
        "id": "wcXWWWRRvCwO",
        "outputId": "077aeb04-7f80-4234-e48c-27d37e24e4d7"
      },
      "outputs": [
        {
          "name": "stdout",
          "output_type": "stream",
          "text": [
            "2/2 [==============================] - 0s 150ms/step\n"
          ]
        }
      ],
      "source": [
        "y_pred = model.predict(test_set)"
      ]
    },
    {
      "cell_type": "code",
      "execution_count": 39,
      "metadata": {
        "colab": {
          "base_uri": "https://localhost:8080/"
        },
        "id": "_n4Mg086vifn",
        "outputId": "56e766e2-3a70-4611-9528-d0b9b8429259"
      },
      "outputs": [
        {
          "data": {
            "text/plain": [
              "array([0, 1, 1, 0, 0, 1, 1, 0, 1, 1, 0, 1, 0, 1, 0, 1, 1, 0, 0, 0, 0, 1,\n",
              "       1, 1, 1, 0, 0, 0, 1, 1, 1, 1, 1, 0, 0, 0, 0, 1, 1, 1, 1, 1, 1, 1,\n",
              "       0, 1, 0, 0, 0, 1, 1, 0, 1, 1, 1, 0, 1, 1, 0])"
            ]
          },
          "execution_count": 39,
          "metadata": {},
          "output_type": "execute_result"
        }
      ],
      "source": [
        "np.argmax(y_pred,axis=1)"
      ]
    },
    {
      "cell_type": "code",
      "execution_count": 41,
      "metadata": {
        "colab": {
          "base_uri": "https://localhost:8080/",
          "height": 35
        },
        "id": "6NmRecdqvjls",
        "outputId": "56ed1428-c525-49d4-fc75-6cacd8ea9794"
      },
      "outputs": [
        {
          "data": {
            "application/vnd.google.colaboratory.intrinsic+json": {
              "type": "string"
            },
            "text/plain": [
              "'/content/model_vgg16.h5'"
            ]
          },
          "execution_count": 41,
          "metadata": {},
          "output_type": "execute_result"
        }
      ],
      "source": [
        "import shutil\n",
        "shutil.copy('model_vgg16.h5','/content/')"
      ]
    },
    {
      "cell_type": "code",
      "execution_count": 42,
      "metadata": {
        "colab": {
          "base_uri": "https://localhost:8080/"
        },
        "id": "jrJslKDtx9z-",
        "outputId": "1e646b92-8e76-421b-b11f-09e2fd87920b"
      },
      "outputs": [
        {
          "name": "stdout",
          "output_type": "stream",
          "text": [
            "Access denied with the following error:\n",
            "\n",
            " \tCannot retrieve the public link of the file. You may need to change\n",
            "\tthe permission to 'Anyone with the link', or have had many accesses. \n",
            "\n",
            "You may still be able to access the file from the browser:\n",
            "\n",
            "\t https://drive.google.com/uc?id=model_vgg16.h5 \n",
            "\n"
          ]
        }
      ],
      "source": [
        "!gdown 'model_vgg16.h5'"
      ]
    },
    {
      "cell_type": "code",
      "execution_count": null,
      "metadata": {
        "id": "67Uh7sAcyX8W"
      },
      "outputs": [],
      "source": []
    }
  ],
  "metadata": {
    "accelerator": "GPU",
    "colab": {
      "gpuType": "T4",
      "provenance": []
    },
    "kernelspec": {
      "display_name": "Python 3",
      "name": "python3"
    },
    "language_info": {
      "name": "python"
    }
  },
  "nbformat": 4,
  "nbformat_minor": 0
}
